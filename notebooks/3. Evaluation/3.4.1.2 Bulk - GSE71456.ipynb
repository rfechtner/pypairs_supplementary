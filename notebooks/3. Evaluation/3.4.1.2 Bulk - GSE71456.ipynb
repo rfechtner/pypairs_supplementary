{
 "cells": [
  {
   "cell_type": "markdown",
   "metadata": {},
   "source": [
    "# Tesing Bulk dataset - GSE71456\n",
    "\n",
    "Here we tested the dataset available at accession number: [GSE71456](https://www.ncbi.nlm.nih.gov/geo/query/acc.cgi?acc=GSE71456). Link to Paper: [Derivation and differentiation of haploid human embryonic stem cells](https://www.nature.com/articles/nature17408)"
   ]
  },
  {
   "cell_type": "markdown",
   "metadata": {},
   "source": [
    "<div id=\"toc\"></div>"
   ]
  },
  {
   "cell_type": "markdown",
   "metadata": {},
   "source": [
    "## Neccessary Imports"
   ]
  },
  {
   "cell_type": "code",
   "execution_count": 1,
   "metadata": {},
   "outputs": [
    {
     "data": {
      "application/javascript": [
       "$.getScript('https://kmahelona.github.io/ipython_notebook_goodies/ipython_notebook_toc.js')"
      ],
      "text/plain": [
       "<IPython.core.display.Javascript object>"
      ]
     },
     "metadata": {},
     "output_type": "display_data"
    }
   ],
   "source": [
    "%%javascript\n",
    "$.getScript('https://kmahelona.github.io/ipython_notebook_goodies/ipython_notebook_toc.js')"
   ]
  },
  {
   "cell_type": "code",
   "execution_count": 2,
   "metadata": {},
   "outputs": [
    {
     "data": {
      "text/html": [
       "<script>requirejs.config({paths: { 'plotly': ['https://cdn.plot.ly/plotly-latest.min']},});if(!window.Plotly) {{require(['plotly'],function(plotly) {window.Plotly=plotly;});}}</script>"
      ],
      "text/vnd.plotly.v1+html": [
       "<script>requirejs.config({paths: { 'plotly': ['https://cdn.plot.ly/plotly-latest.min']},});if(!window.Plotly) {{require(['plotly'],function(plotly) {window.Plotly=plotly;});}}</script>"
      ]
     },
     "metadata": {},
     "output_type": "display_data"
    }
   ],
   "source": [
    "import sys\n",
    "code = \"./../../code/\"\n",
    "data = \"./../../data/\"\n",
    "sys.path.append(code)\n",
    "import pandas\n",
    "import pypairs as pairs\n",
    "from sklearn.preprocessing import QuantileTransformer\n",
    "from plotly.offline import download_plotlyjs, init_notebook_mode, plot, iplot\n",
    "import plotly.graph_objs as go\n",
    "import numpy as np\n",
    "from pathlib import Path\n",
    "from tqdm import tqdm_notebook as tqdm\n",
    "import helper\n",
    "import timeit\n",
    "\n",
    "init_notebook_mode(connected=True)"
   ]
  },
  {
   "cell_type": "markdown",
   "metadata": {},
   "source": [
    "## Loading Oscope CC only marker pairs"
   ]
  },
  {
   "cell_type": "code",
   "execution_count": 3,
   "metadata": {},
   "outputs": [
    {
     "name": "stdout",
     "output_type": "stream",
     "text": [
      "[__set_matrix] Original Matrix 'x' has shape 19084 x 247\n",
      "[__set_matrix] Removed 16689 genes that were not in 'subset_genes'. 2395 genes remaining.\n",
      "[__set_matrix] Removed 61 genes that were not expressed in any samples. 2334 genes remaining.\n",
      "[__set_matrix] Removed 0 samples that were not annotated in 'phases'. 247 samples remaining.\n",
      "[__set_matrix] Matrix truncation done. Working with 2334 genes for 247 samples.\n",
      "[sandbag] Identifying marker pairs...Processing in parallel with 10 processes...\n",
      " Done!\n",
      "[sandbag] Identified 8146 marker pairs (phase: count): {'G1': 2575, 'S': 4101, 'G2M': 1470}\n"
     ]
    }
   ],
   "source": [
    "cc_marker = helper.load_ocope_marker(data)"
   ]
  },
  {
   "cell_type": "markdown",
   "metadata": {},
   "source": [
    "## Loading human embryonic stem cells - GSE71456"
   ]
  },
  {
   "cell_type": "code",
   "execution_count": 4,
   "metadata": {},
   "outputs": [
    {
     "data": {
      "text/html": [
       "<div>\n",
       "<style scoped>\n",
       "    .dataframe tbody tr th:only-of-type {\n",
       "        vertical-align: middle;\n",
       "    }\n",
       "\n",
       "    .dataframe tbody tr th {\n",
       "        vertical-align: top;\n",
       "    }\n",
       "\n",
       "    .dataframe thead th {\n",
       "        text-align: right;\n",
       "    }\n",
       "</style>\n",
       "<table border=\"1\" class=\"dataframe\">\n",
       "  <thead>\n",
       "    <tr style=\"text-align: right;\">\n",
       "      <th></th>\n",
       "      <th>pES10 h-G1 rep1</th>\n",
       "      <th>pES10 h-G1 rep2</th>\n",
       "      <th>pES10 d-G1 rep1</th>\n",
       "      <th>pES10 d-G1 rep2</th>\n",
       "      <th>h-pES10 d-G2/M</th>\n",
       "      <th>d-pES10 d-G2/M</th>\n",
       "      <th>pES12 h-G1 rep1</th>\n",
       "      <th>pES12 h-G1 rep2</th>\n",
       "      <th>pES12 d-G1 rep1</th>\n",
       "      <th>pES12 d-G1 rep2</th>\n",
       "      <th>pES10 NPC h-G1</th>\n",
       "      <th>pES10 EB h-G1</th>\n",
       "      <th>pES10 EB d-G1</th>\n",
       "    </tr>\n",
       "    <tr>\n",
       "      <th>Gene name</th>\n",
       "      <th></th>\n",
       "      <th></th>\n",
       "      <th></th>\n",
       "      <th></th>\n",
       "      <th></th>\n",
       "      <th></th>\n",
       "      <th></th>\n",
       "      <th></th>\n",
       "      <th></th>\n",
       "      <th></th>\n",
       "      <th></th>\n",
       "      <th></th>\n",
       "      <th></th>\n",
       "    </tr>\n",
       "  </thead>\n",
       "  <tbody>\n",
       "    <tr>\n",
       "      <th>DDX11L1</th>\n",
       "      <td>0.000000</td>\n",
       "      <td>0.000000</td>\n",
       "      <td>0.00000</td>\n",
       "      <td>0.000000</td>\n",
       "      <td>0.000000</td>\n",
       "      <td>0.00000</td>\n",
       "      <td>0.062530</td>\n",
       "      <td>0.000000</td>\n",
       "      <td>0.071163</td>\n",
       "      <td>0.030771</td>\n",
       "      <td>0.00000</td>\n",
       "      <td>0.00000</td>\n",
       "      <td>0.00000</td>\n",
       "    </tr>\n",
       "    <tr>\n",
       "      <th>WASH7P</th>\n",
       "      <td>0.544188</td>\n",
       "      <td>0.611637</td>\n",
       "      <td>0.63454</td>\n",
       "      <td>0.750842</td>\n",
       "      <td>0.613818</td>\n",
       "      <td>0.78038</td>\n",
       "      <td>0.859602</td>\n",
       "      <td>0.783642</td>\n",
       "      <td>0.921835</td>\n",
       "      <td>0.858255</td>\n",
       "      <td>1.36685</td>\n",
       "      <td>1.00679</td>\n",
       "      <td>0.63645</td>\n",
       "    </tr>\n",
       "    <tr>\n",
       "      <th>MIR1302-10</th>\n",
       "      <td>0.000000</td>\n",
       "      <td>0.000000</td>\n",
       "      <td>0.00000</td>\n",
       "      <td>0.000000</td>\n",
       "      <td>0.000000</td>\n",
       "      <td>0.00000</td>\n",
       "      <td>0.000000</td>\n",
       "      <td>0.000000</td>\n",
       "      <td>0.000000</td>\n",
       "      <td>0.000000</td>\n",
       "      <td>0.00000</td>\n",
       "      <td>0.00000</td>\n",
       "      <td>0.00000</td>\n",
       "    </tr>\n",
       "    <tr>\n",
       "      <th>FAM138A</th>\n",
       "      <td>0.000000</td>\n",
       "      <td>0.000000</td>\n",
       "      <td>0.00000</td>\n",
       "      <td>0.000000</td>\n",
       "      <td>0.000000</td>\n",
       "      <td>0.00000</td>\n",
       "      <td>0.000000</td>\n",
       "      <td>0.000000</td>\n",
       "      <td>0.000000</td>\n",
       "      <td>0.000000</td>\n",
       "      <td>0.00000</td>\n",
       "      <td>0.00000</td>\n",
       "      <td>0.00000</td>\n",
       "    </tr>\n",
       "    <tr>\n",
       "      <th>OR4G4P</th>\n",
       "      <td>0.000000</td>\n",
       "      <td>0.000000</td>\n",
       "      <td>0.00000</td>\n",
       "      <td>0.000000</td>\n",
       "      <td>0.000000</td>\n",
       "      <td>0.00000</td>\n",
       "      <td>0.000000</td>\n",
       "      <td>0.000000</td>\n",
       "      <td>0.000000</td>\n",
       "      <td>0.000000</td>\n",
       "      <td>0.00000</td>\n",
       "      <td>0.00000</td>\n",
       "      <td>0.00000</td>\n",
       "    </tr>\n",
       "  </tbody>\n",
       "</table>\n",
       "</div>"
      ],
      "text/plain": [
       "            pES10 h-G1 rep1  pES10 h-G1 rep2  pES10 d-G1 rep1  \\\n",
       "Gene name                                                       \n",
       "DDX11L1            0.000000         0.000000          0.00000   \n",
       "WASH7P             0.544188         0.611637          0.63454   \n",
       "MIR1302-10         0.000000         0.000000          0.00000   \n",
       "FAM138A            0.000000         0.000000          0.00000   \n",
       "OR4G4P             0.000000         0.000000          0.00000   \n",
       "\n",
       "            pES10 d-G1 rep2  h-pES10 d-G2/M  d-pES10 d-G2/M  pES12 h-G1 rep1  \\\n",
       "Gene name                                                                      \n",
       "DDX11L1            0.000000        0.000000         0.00000         0.062530   \n",
       "WASH7P             0.750842        0.613818         0.78038         0.859602   \n",
       "MIR1302-10         0.000000        0.000000         0.00000         0.000000   \n",
       "FAM138A            0.000000        0.000000         0.00000         0.000000   \n",
       "OR4G4P             0.000000        0.000000         0.00000         0.000000   \n",
       "\n",
       "            pES12 h-G1 rep2  pES12 d-G1 rep1  pES12 d-G1 rep2  pES10 NPC h-G1  \\\n",
       "Gene name                                                                       \n",
       "DDX11L1            0.000000         0.071163         0.030771         0.00000   \n",
       "WASH7P             0.783642         0.921835         0.858255         1.36685   \n",
       "MIR1302-10         0.000000         0.000000         0.000000         0.00000   \n",
       "FAM138A            0.000000         0.000000         0.000000         0.00000   \n",
       "OR4G4P             0.000000         0.000000         0.000000         0.00000   \n",
       "\n",
       "            pES10 EB h-G1  pES10 EB d-G1  \n",
       "Gene name                                 \n",
       "DDX11L1           0.00000        0.00000  \n",
       "WASH7P            1.00679        0.63645  \n",
       "MIR1302-10        0.00000        0.00000  \n",
       "FAM138A           0.00000        0.00000  \n",
       "OR4G4P            0.00000        0.00000  "
      ]
     },
     "execution_count": 4,
     "metadata": {},
     "output_type": "execute_result"
    }
   ],
   "source": [
    "gencounts_GSE71456 = pandas.read_csv(\n",
    "    Path(data + \"GSE71456_Samples_RPKM.csv\"), sep='\\t', index_col=0, \n",
    "    usecols=[1,4,5,6,7,8,9,10,11,12,13,14,15,16]\n",
    ")\n",
    "gencounts_GSE71456.head()"
   ]
  },
  {
   "cell_type": "code",
   "execution_count": 5,
   "metadata": {},
   "outputs": [
    {
     "name": "stderr",
     "output_type": "stream",
     "text": [
      "c:\\users\\ron\\appdata\\local\\programs\\python\\python36\\lib\\site-packages\\sklearn\\preprocessing\\data.py:2325: RuntimeWarning:\n",
      "\n",
      "invalid value encountered in subtract\n",
      "\n"
     ]
    }
   ],
   "source": [
    "x = gencounts_GSE71456.T.values\n",
    "\n",
    "X_std = QuantileTransformer().fit_transform(x.astype(float))\n",
    "\n",
    "gencounts_GSE71456_Qnorm = pandas.DataFrame(X_std.T, index=gencounts_GSE71456.index, columns=gencounts_GSE71456.columns)"
   ]
  },
  {
   "cell_type": "code",
   "execution_count": 6,
   "metadata": {},
   "outputs": [
    {
     "name": "stdout",
     "output_type": "stream",
     "text": [
      "[__set_matrix] Original Matrix 'x' has shape 63657 x 13\n",
      "[__set_matrix] Matrix truncation done. Working with 63657 genes for 13 samples.\n",
      "[cyclone] Preparing marker pairs, where at least one gene was not present in 'x'... Done!\n",
      "[cyclone] Removed 64 marker pairs. 8146 marker pairs remaining.\n",
      "[cyclone] Calculating scores and predicting cell cycle phase... Done!\n",
      "[cyclone] Calculated scores and prediction (phase: count): S: 2, G1: 8, G2M: 3\n"
     ]
    }
   ],
   "source": [
    "GSE71456_prediction = pairs.cyclone(gencounts_GSE71456_Qnorm, cc_marker, verbose=True)"
   ]
  },
  {
   "cell_type": "code",
   "execution_count": 7,
   "metadata": {},
   "outputs": [
    {
     "data": {
      "text/html": [
       "<div id=\"datatable-d1c75aa8-24d4-11e8-a4c1-e4a471acd27a\"><table border=\"1\" class=\"dataframe datatable display\">\n",
       "  <thead>\n",
       "    <tr style=\"text-align: right;\">\n",
       "      <th></th>\n",
       "      <th>G1</th>\n",
       "      <th>G2M</th>\n",
       "      <th>S</th>\n",
       "      <th>G1_norm</th>\n",
       "      <th>G2M_norm</th>\n",
       "      <th>S_norm</th>\n",
       "      <th>prediction</th>\n",
       "    </tr>\n",
       "    <tr>\n",
       "      <th>sample</th>\n",
       "      <th></th>\n",
       "      <th></th>\n",
       "      <th></th>\n",
       "      <th></th>\n",
       "      <th></th>\n",
       "      <th></th>\n",
       "      <th></th>\n",
       "    </tr>\n",
       "  </thead>\n",
       "  <tbody>\n",
       "    <tr>\n",
       "      <th>pES10 h-G1 rep1</th>\n",
       "      <td>0.370</td>\n",
       "      <td>0.240</td>\n",
       "      <td>0.918</td>\n",
       "      <td>0.242147</td>\n",
       "      <td>0.157068</td>\n",
       "      <td>0.600785</td>\n",
       "      <td>S</td>\n",
       "    </tr>\n",
       "    <tr>\n",
       "      <th>pES10 h-G1 rep2</th>\n",
       "      <td>0.999</td>\n",
       "      <td>0.862</td>\n",
       "      <td>0.000</td>\n",
       "      <td>0.536808</td>\n",
       "      <td>0.463192</td>\n",
       "      <td>0.000000</td>\n",
       "      <td>G1</td>\n",
       "    </tr>\n",
       "    <tr>\n",
       "      <th>pES10 d-G1 rep1</th>\n",
       "      <td>0.712</td>\n",
       "      <td>0.661</td>\n",
       "      <td>0.510</td>\n",
       "      <td>0.378120</td>\n",
       "      <td>0.351036</td>\n",
       "      <td>0.270844</td>\n",
       "      <td>G1</td>\n",
       "    </tr>\n",
       "    <tr>\n",
       "      <th>pES10 d-G1 rep2</th>\n",
       "      <td>0.548</td>\n",
       "      <td>0.018</td>\n",
       "      <td>1.000</td>\n",
       "      <td>0.349936</td>\n",
       "      <td>0.011494</td>\n",
       "      <td>0.638570</td>\n",
       "      <td>G1</td>\n",
       "    </tr>\n",
       "    <tr>\n",
       "      <th>h-pES10 d-G2/M</th>\n",
       "      <td>0.371</td>\n",
       "      <td>1.000</td>\n",
       "      <td>0.000</td>\n",
       "      <td>0.270605</td>\n",
       "      <td>0.729395</td>\n",
       "      <td>0.000000</td>\n",
       "      <td>G2M</td>\n",
       "    </tr>\n",
       "    <tr>\n",
       "      <th>d-pES10 d-G2/M</th>\n",
       "      <td>0.000</td>\n",
       "      <td>1.000</td>\n",
       "      <td>0.001</td>\n",
       "      <td>0.000000</td>\n",
       "      <td>0.999001</td>\n",
       "      <td>0.000999</td>\n",
       "      <td>G2M</td>\n",
       "    </tr>\n",
       "    <tr>\n",
       "      <th>pES12 h-G1 rep1</th>\n",
       "      <td>0.789</td>\n",
       "      <td>0.722</td>\n",
       "      <td>0.000</td>\n",
       "      <td>0.522171</td>\n",
       "      <td>0.477829</td>\n",
       "      <td>0.000000</td>\n",
       "      <td>G1</td>\n",
       "    </tr>\n",
       "    <tr>\n",
       "      <th>pES12 h-G1 rep2</th>\n",
       "      <td>0.366</td>\n",
       "      <td>0.028</td>\n",
       "      <td>0.985</td>\n",
       "      <td>0.265410</td>\n",
       "      <td>0.020305</td>\n",
       "      <td>0.714286</td>\n",
       "      <td>S</td>\n",
       "    </tr>\n",
       "    <tr>\n",
       "      <th>pES12 d-G1 rep1</th>\n",
       "      <td>0.999</td>\n",
       "      <td>0.000</td>\n",
       "      <td>1.000</td>\n",
       "      <td>0.499750</td>\n",
       "      <td>0.000000</td>\n",
       "      <td>0.500250</td>\n",
       "      <td>G1</td>\n",
       "    </tr>\n",
       "    <tr>\n",
       "      <th>pES12 d-G1 rep2</th>\n",
       "      <td>0.909</td>\n",
       "      <td>0.086</td>\n",
       "      <td>0.289</td>\n",
       "      <td>0.707944</td>\n",
       "      <td>0.066978</td>\n",
       "      <td>0.225078</td>\n",
       "      <td>G1</td>\n",
       "    </tr>\n",
       "    <tr>\n",
       "      <th>pES10 NPC h-G1</th>\n",
       "      <td>0.011</td>\n",
       "      <td>1.000</td>\n",
       "      <td>0.051</td>\n",
       "      <td>0.010358</td>\n",
       "      <td>0.941620</td>\n",
       "      <td>0.048023</td>\n",
       "      <td>G2M</td>\n",
       "    </tr>\n",
       "    <tr>\n",
       "      <th>pES10 EB h-G1</th>\n",
       "      <td>0.514</td>\n",
       "      <td>0.015</td>\n",
       "      <td>0.963</td>\n",
       "      <td>0.344504</td>\n",
       "      <td>0.010054</td>\n",
       "      <td>0.645442</td>\n",
       "      <td>G1</td>\n",
       "    </tr>\n",
       "    <tr>\n",
       "      <th>pES10 EB d-G1</th>\n",
       "      <td>0.690</td>\n",
       "      <td>0.000</td>\n",
       "      <td>1.000</td>\n",
       "      <td>0.408284</td>\n",
       "      <td>0.000000</td>\n",
       "      <td>0.591716</td>\n",
       "      <td>G1</td>\n",
       "    </tr>\n",
       "  </tbody>\n",
       "</table>\n",
       "            <script type=\"text/javascript\">\n",
       "                $(document).ready(function() {\n",
       "                    require(['dataTables'], function() {\n",
       "                        $('#datatable-d1c75aa8-24d4-11e8-a4c1-e4a471acd27a').find('table.datatable').dataTable({\n",
       "                        columnDefs: [{ targets: [0,1,2,3,4,5,6], type: 'scientific' }]});\n",
       "                    });\n",
       "                });\n",
       "            </script>\n",
       "        </div>\n",
       "    "
      ],
      "text/plain": [
       "<IPython.core.display.HTML object>"
      ]
     },
     "execution_count": 7,
     "metadata": {},
     "output_type": "execute_result"
    }
   ],
   "source": [
    "GSE71456_prediction_table = helper.get_prediction_table(GSE71456_prediction)\n",
    "helper.DataTable(GSE71456_prediction_table)"
   ]
  },
  {
   "cell_type": "markdown",
   "metadata": {},
   "source": [
    "## Plot prediction"
   ]
  },
  {
   "cell_type": "code",
   "execution_count": 8,
   "metadata": {},
   "outputs": [
    {
     "name": "stderr",
     "output_type": "stream",
     "text": [
      "c:\\users\\ron\\appdata\\local\\programs\\python\\python36\\lib\\site-packages\\sklearn\\metrics\\classification.py:1137: UndefinedMetricWarning:\n",
      "\n",
      "F-score is ill-defined and being set to 0.0 in labels with no true samples.\n",
      "\n",
      "c:\\users\\ron\\appdata\\local\\programs\\python\\python36\\lib\\site-packages\\sklearn\\metrics\\classification.py:1137: UndefinedMetricWarning:\n",
      "\n",
      "Recall is ill-defined and being set to 0.0 in labels with no true samples.\n",
      "\n"
     ]
    },
    {
     "name": "stdout",
     "output_type": "stream",
     "text": [
      "F1 Score: G1: 0.8421052631578948, S: 0.0, G2M: 0.8\n",
      "Reacall: G1: 0.7272727272727273, S: 0.0, G2M: 1.0 \n",
      "Precision: G1: 1.0, S: 0.0, G2M: 0.6666666666666666 \n"
     ]
    },
    {
     "data": {
      "text/plain": [
       "{'data': [{'marker': {'color': 'red', 'size': 10, 'symbol': 'circle'},\n",
       "   'mode': 'markers',\n",
       "   'name': 'F1-Score',\n",
       "   'type': 'scatter',\n",
       "   'x': ['G1', 'S', 'G2M'],\n",
       "   'y': array([0.84210526, 0.        , 0.8       ])},\n",
       "  {'marker': {'color': 'blue', 'size': 10, 'symbol': 'square'},\n",
       "   'mode': 'markers',\n",
       "   'name': 'Recall-Score',\n",
       "   'type': 'scatter',\n",
       "   'x': ['G1', 'S', 'G2M'],\n",
       "   'y': array([0.72727273, 0.        , 1.        ])},\n",
       "  {'marker': {'color': 'green', 'size': 10, 'symbol': 'triangle-up'},\n",
       "   'mode': 'markers',\n",
       "   'name': 'Precision-Score',\n",
       "   'type': 'scatter',\n",
       "   'x': ['G1', 'S', 'G2M'],\n",
       "   'y': array([1.        , 0.        , 0.66666667])}],\n",
       " 'layout': {'title': '',\n",
       "  'xaxis': {'title': 'Phase'},\n",
       "  'yaxis': {'title': 'F1, Recall, Precision Score'}}}"
      ]
     },
     "execution_count": 8,
     "metadata": {},
     "output_type": "execute_result"
    }
   ],
   "source": [
    "labels = [\"G1\",\"G1\",\"G1\",\"G1\",\"G2M\",\"G2M\",\"G1\",\"G1\",\"G1\",\"G1\",\"G1\",\"G1\",\"G1\"]\n",
    "GSE71456_evaluation = helper.evaluate_prediction(GSE71456_prediction_table, labels)\n",
    "helper.plot_evaluation(*GSE71456_evaluation, xaxis=[\"G1\",\"S\",\"G2M\"], xaxislbl=\"Phase\")"
   ]
  },
  {
   "cell_type": "code",
   "execution_count": 10,
   "metadata": {
    "scrolled": true
   },
   "outputs": [],
   "source": [
    "sample1_g1 = [GSE71456_prediction_table.iloc[i, 0] for i in range (0,12)]\n",
    "sample1_s = [GSE71456_prediction_table.iloc[i, 2] for i in range (0,12)]\n",
    "sample1_g2m = [GSE71456_prediction_table.iloc[i, 1] for i in range (0,12)]\n",
    "plot = helper.get_prediction_plot(sample1_g1, sample1_s, sample1_g2m, t=\"scatter\", xaxis=GSE71456_prediction_table.index.tolist(), xaxislbl=\"\", width=950,height=950, title=\"Assignment of hESC\")"
   ]
  },
  {
   "cell_type": "code",
   "execution_count": 11,
   "metadata": {},
   "outputs": [
    {
     "data": {
      "application/vnd.plotly.v1+json": {
       "data": [
        {
         "marker": {
          "color": "black",
          "size": 10,
          "symbol": "circle"
         },
         "mode": "markers+text",
         "name": "Sample0",
         "text": [
          " pES10 h-G1 rep1",
          " pES10 h-G1 rep2",
          " pES10 d-G1 rep1",
          " pES10 d-G1 rep2",
          " h-pES10 d-G2/M",
          " d-pES10 d-G2/M",
          " pES12 h-G1 rep1",
          " pES12 h-G1 rep2",
          " pES12 d-G1 rep1",
          " pES12 d-G1 rep2",
          " pES10 NPC h-G1",
          " pES10 EB h-G1",
          " pES10 EB d-G1"
         ],
         "textfont": {
          "size": 12
         },
         "textposition": "top left",
         "type": "scatter",
         "x": [
          0.37,
          0.999,
          0.712,
          0.548,
          0.371,
          0,
          0.789,
          0.366,
          0.999,
          0.909,
          0.011,
          0.514
         ],
         "y": [
          0.24,
          0.862,
          0.661,
          0.018,
          1,
          1,
          0.722,
          0.028,
          0,
          0.086,
          1,
          0.015
         ]
        },
        {
         "hoverinfo": "none",
         "mode": "text",
         "showlegend": false,
         "text": [
          "G1",
          "G2M",
          "S"
         ],
         "type": "scatter",
         "x": [
          0.8,
          0.4,
          0.25
         ],
         "y": [
          0.4,
          0.8,
          0.25
         ]
        }
       ],
       "layout": {
        "height": 950,
        "shapes": [
         {
          "fillcolor": "rgba(255,0,0,0.2)",
          "path": " M 0.5,0 L1,0 L1,1 L0.5,0.5 Z",
          "type": "path"
         },
         {
          "fillcolor": "rgba(255,255,0,0.2)",
          "path": " M 0,0 L0.5,0 L0.5,0.5 L0,0.5 Z",
          "type": "path"
         },
         {
          "fillcolor": "rgba(0,0,255,0.2)",
          "path": " M 0,0.5 L0,1 L1,1 L0.5,0.5 Z",
          "type": "path"
         }
        ],
        "title": "Assignment of hESC",
        "width": 950,
        "xaxis": {
         "range": [
          -0.1,
          1.1
         ]
        },
        "yaxis": {
         "range": [
          -0.1,
          1.1
         ]
        }
       }
      },
      "text/html": [
       "<div id=\"a793dd50-ee4e-4b15-b564-e0100ad1d246\" style=\"height: 950px; width: 950px;\" class=\"plotly-graph-div\"></div><script type=\"text/javascript\">require([\"plotly\"], function(Plotly) { window.PLOTLYENV=window.PLOTLYENV || {};window.PLOTLYENV.BASE_URL=\"https://plot.ly\";Plotly.newPlot(\"a793dd50-ee4e-4b15-b564-e0100ad1d246\", [{\"type\": \"scatter\", \"x\": [0.37, 0.999, 0.712, 0.548, 0.371, 0.0, 0.789, 0.366, 0.999, 0.909, 0.011, 0.514], \"y\": [0.24, 0.862, 0.661, 0.018, 1.0, 1.0, 0.722, 0.028, 0.0, 0.086, 1.0, 0.015], \"mode\": \"markers+text\", \"marker\": {\"symbol\": \"circle\", \"size\": 10, \"color\": \"black\"}, \"name\": \"Sample0\", \"text\": [\" pES10 h-G1 rep1\", \" pES10 h-G1 rep2\", \" pES10 d-G1 rep1\", \" pES10 d-G1 rep2\", \" h-pES10 d-G2/M\", \" d-pES10 d-G2/M\", \" pES12 h-G1 rep1\", \" pES12 h-G1 rep2\", \" pES12 d-G1 rep1\", \" pES12 d-G1 rep2\", \" pES10 NPC h-G1\", \" pES10 EB h-G1\", \" pES10 EB d-G1\"], \"textposition\": \"top left\", \"textfont\": {\"size\": 12}}, {\"type\": \"scatter\", \"x\": [0.8, 0.4, 0.25], \"y\": [0.4, 0.8, 0.25], \"text\": [\"G1\", \"G2M\", \"S\"], \"mode\": \"text\", \"showlegend\": false, \"hoverinfo\": \"none\"}], {\"title\": \"Assignment of hESC\", \"xaxis\": {\"range\": [-0.1, 1.1]}, \"yaxis\": {\"range\": [-0.1, 1.1]}, \"width\": 950, \"height\": 950, \"shapes\": [{\"type\": \"path\", \"path\": \" M 0.5,0 L1,0 L1,1 L0.5,0.5 Z\", \"fillcolor\": \"rgba(255,0,0,0.2)\"}, {\"type\": \"path\", \"path\": \" M 0,0 L0.5,0 L0.5,0.5 L0,0.5 Z\", \"fillcolor\": \"rgba(255,255,0,0.2)\"}, {\"type\": \"path\", \"path\": \" M 0,0.5 L0,1 L1,1 L0.5,0.5 Z\", \"fillcolor\": \"rgba(0,0,255,0.2)\"}]}, {\"showLink\": true, \"linkText\": \"Export to plot.ly\"})});</script>"
      ],
      "text/vnd.plotly.v1+html": [
       "<div id=\"a793dd50-ee4e-4b15-b564-e0100ad1d246\" style=\"height: 950px; width: 950px;\" class=\"plotly-graph-div\"></div><script type=\"text/javascript\">require([\"plotly\"], function(Plotly) { window.PLOTLYENV=window.PLOTLYENV || {};window.PLOTLYENV.BASE_URL=\"https://plot.ly\";Plotly.newPlot(\"a793dd50-ee4e-4b15-b564-e0100ad1d246\", [{\"type\": \"scatter\", \"x\": [0.37, 0.999, 0.712, 0.548, 0.371, 0.0, 0.789, 0.366, 0.999, 0.909, 0.011, 0.514], \"y\": [0.24, 0.862, 0.661, 0.018, 1.0, 1.0, 0.722, 0.028, 0.0, 0.086, 1.0, 0.015], \"mode\": \"markers+text\", \"marker\": {\"symbol\": \"circle\", \"size\": 10, \"color\": \"black\"}, \"name\": \"Sample0\", \"text\": [\" pES10 h-G1 rep1\", \" pES10 h-G1 rep2\", \" pES10 d-G1 rep1\", \" pES10 d-G1 rep2\", \" h-pES10 d-G2/M\", \" d-pES10 d-G2/M\", \" pES12 h-G1 rep1\", \" pES12 h-G1 rep2\", \" pES12 d-G1 rep1\", \" pES12 d-G1 rep2\", \" pES10 NPC h-G1\", \" pES10 EB h-G1\", \" pES10 EB d-G1\"], \"textposition\": \"top left\", \"textfont\": {\"size\": 12}}, {\"type\": \"scatter\", \"x\": [0.8, 0.4, 0.25], \"y\": [0.4, 0.8, 0.25], \"text\": [\"G1\", \"G2M\", \"S\"], \"mode\": \"text\", \"showlegend\": false, \"hoverinfo\": \"none\"}], {\"title\": \"Assignment of hESC\", \"xaxis\": {\"range\": [-0.1, 1.1]}, \"yaxis\": {\"range\": [-0.1, 1.1]}, \"width\": 950, \"height\": 950, \"shapes\": [{\"type\": \"path\", \"path\": \" M 0.5,0 L1,0 L1,1 L0.5,0.5 Z\", \"fillcolor\": \"rgba(255,0,0,0.2)\"}, {\"type\": \"path\", \"path\": \" M 0,0 L0.5,0 L0.5,0.5 L0,0.5 Z\", \"fillcolor\": \"rgba(255,255,0,0.2)\"}, {\"type\": \"path\", \"path\": \" M 0,0.5 L0,1 L1,1 L0.5,0.5 Z\", \"fillcolor\": \"rgba(0,0,255,0.2)\"}]}, {\"showLink\": true, \"linkText\": \"Export to plot.ly\"})});</script>"
      ]
     },
     "metadata": {},
     "output_type": "display_data"
    }
   ],
   "source": [
    "iplot(plot)"
   ]
  },
  {
   "cell_type": "code",
   "execution_count": null,
   "metadata": {},
   "outputs": [],
   "source": []
  }
 ],
 "metadata": {
  "kernelspec": {
   "display_name": "Python 3",
   "language": "python",
   "name": "python3"
  },
  "language_info": {
   "codemirror_mode": {
    "name": "ipython",
    "version": 3
   },
   "file_extension": ".py",
   "mimetype": "text/x-python",
   "name": "python",
   "nbconvert_exporter": "python",
   "pygments_lexer": "ipython3",
   "version": "3.6.3"
  }
 },
 "nbformat": 4,
 "nbformat_minor": 2
}
