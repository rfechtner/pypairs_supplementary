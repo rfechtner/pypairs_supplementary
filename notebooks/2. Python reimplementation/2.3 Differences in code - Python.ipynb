{
 "cells": [
  {
   "cell_type": "markdown",
   "metadata": {},
   "source": [
    "# Speed comparison between PyPairs and the R verison - PyPairs\n",
    "\n",
    "Here we ran the sandbag part of the original Pairs method on the oscope dataset for a growing subset of genes. Taking note of the required execution time. Single cored time is taken. For the result please see: [2.3 Differences in code - Python](./2.3%20Differences%20in%20code%20-%20R.ipynb)"
   ]
  },
  {
   "cell_type": "markdown",
   "metadata": {},
   "source": [
    "<div id=\"toc\"></div>"
   ]
  },
  {
   "cell_type": "markdown",
   "metadata": {},
   "source": [
    "## Neccessary Imports"
   ]
  },
  {
   "cell_type": "code",
   "execution_count": 2,
   "metadata": {},
   "outputs": [
    {
     "data": {
      "application/javascript": [
       "$.getScript('https://kmahelona.github.io/ipython_notebook_goodies/ipython_notebook_toc.js')"
      ],
      "text/plain": [
       "<IPython.core.display.Javascript object>"
      ]
     },
     "metadata": {},
     "output_type": "display_data"
    }
   ],
   "source": [
    "%%javascript\n",
    "$.getScript('https://kmahelona.github.io/ipython_notebook_goodies/ipython_notebook_toc.js')"
   ]
  },
  {
   "cell_type": "code",
   "execution_count": 2,
   "metadata": {},
   "outputs": [
    {
     "data": {
      "text/html": [
       "<script>requirejs.config({paths: { 'plotly': ['https://cdn.plot.ly/plotly-latest.min']},});if(!window.Plotly) {{require(['plotly'],function(plotly) {window.Plotly=plotly;});}}</script>"
      ],
      "text/vnd.plotly.v1+html": [
       "<script>requirejs.config({paths: { 'plotly': ['https://cdn.plot.ly/plotly-latest.min']},});if(!window.Plotly) {{require(['plotly'],function(plotly) {window.Plotly=plotly;});}}</script>"
      ]
     },
     "metadata": {},
     "output_type": "display_data"
    }
   ],
   "source": [
    "import sys\n",
    "code = \"./../../code/\"\n",
    "data = \"./../../data/\"\n",
    "sys.path.append(code)\n",
    "import pandas\n",
    "import pypairs as pairs\n",
    "from plotly.offline import download_plotlyjs, init_notebook_mode, plot, iplot\n",
    "import plotly.graph_objs as go\n",
    "import numpy as np\n",
    "from pathlib import Path\n",
    "from tqdm import tqdm_notebook as tqdm\n",
    "import helper\n",
    "import timeit\n",
    "\n",
    "init_notebook_mode(connected=True)"
   ]
  },
  {
   "cell_type": "markdown",
   "metadata": {},
   "source": [
    "## Loading Oscope Dataset"
   ]
  },
  {
   "cell_type": "code",
   "execution_count": 3,
   "metadata": {},
   "outputs": [
    {
     "name": "stdout",
     "output_type": "stream",
     "text": [
      "Total number of genes in oscope dataset 19083\n"
     ]
    }
   ],
   "source": [
    "# Load matrix\n",
    "oscope_gencounts = pandas.read_csv(Path(data + \"data/GSE64016_H1andFUCCI_normalized_EC_human.csv\"))\n",
    "\n",
    "# Set index right\n",
    "oscope_gencounts.set_index(\"Unnamed: 0\", inplace=True)\n",
    "\n",
    "# Subset sorted\n",
    "oscope_gencounts_sorted = oscope_gencounts.iloc[:, [oscope_gencounts.columns.get_loc(c) for c in oscope_gencounts.columns if \"G1_\" in c or \"G2_\" in c or \"S_\" in c]]\n",
    "\n",
    "# Define annotation\n",
    "is_G1 = [oscope_gencounts_sorted.columns.get_loc(c) for c in oscope_gencounts_sorted.columns if \"G1_\" in c]\n",
    "is_S = [oscope_gencounts_sorted.columns.get_loc(c) for c in oscope_gencounts_sorted.columns if \"S_\" in c]\n",
    "is_G2M = [oscope_gencounts_sorted.columns.get_loc(c) for c in oscope_gencounts_sorted.columns if \"G2_\" in c]\n",
    "\n",
    "annotation = {\n",
    "    \"G1\": list(is_G1),\n",
    "    \"S\": list(is_S),\n",
    "    \"G2M\": list(is_G2M)\n",
    "}\n",
    "\n",
    "no_genes = len(oscope_gencounts_sorted.index) - 1\n",
    "\n",
    "print(\"Total number of genes in oscope dataset {}\".format(no_genes))"
   ]
  },
  {
   "cell_type": "markdown",
   "metadata": {},
   "source": [
    "## Running sandbag with increasing number of genes"
   ]
  },
  {
   "cell_type": "markdown",
   "metadata": {},
   "source": [
    "Notice: Long runtime, result stored in magic please see [Results](#Results)"
   ]
  },
  {
   "cell_type": "code",
   "execution_count": 4,
   "metadata": {
    "scrolled": true
   },
   "outputs": [
    {
     "data": {
      "application/vnd.jupyter.widget-view+json": {
       "model_id": "6ca89aa51ff344659e770f63f241b555",
       "version_major": 2,
       "version_minor": 0
      },
      "text/html": [
       "<p>Failed to display Jupyter Widget of type <code>HBox</code>.</p>\n",
       "<p>\n",
       "  If you're reading this message in the Jupyter Notebook or JupyterLab Notebook, it may mean\n",
       "  that the widgets JavaScript is still loading. If this message persists, it\n",
       "  likely means that the widgets JavaScript library is either not installed or\n",
       "  not enabled. See the <a href=\"https://ipywidgets.readthedocs.io/en/stable/user_install.html\">Jupyter\n",
       "  Widgets Documentation</a> for setup instructions.\n",
       "</p>\n",
       "<p>\n",
       "  If you're reading this message in another frontend (for example, a static\n",
       "  rendering on GitHub or <a href=\"https://nbviewer.jupyter.org/\">NBViewer</a>),\n",
       "  it may mean that your frontend doesn't currently support widgets.\n",
       "</p>\n"
      ],
      "text/plain": [
       "HBox(children=(IntProgress(value=0, max=7), HTML(value='')))"
      ]
     },
     "metadata": {},
     "output_type": "display_data"
    },
    {
     "name": "stdout",
     "output_type": "stream",
     "text": [
      "[__set_matrix] Original Matrix 'x' has shape 10 x 247\n",
      "[__set_matrix] Removed 2 genes that were not expressed in any samples. 8 genes remaining.\n",
      "[__set_matrix] Removed 0 samples that were not annotated in 'phases'. 247 samples remaining.\n",
      "[__set_matrix] Matrix truncation done. Working with 8 genes for 247 samples.\n",
      "[sandbag] Identifying marker pairs... Done!\n",
      "[sandbag] Identified 0 marker pairs (phase: count): {'G1': 0, 'S': 0, 'G2M': 0}\n",
      "[__set_matrix] Original Matrix 'x' has shape 100 x 247\n",
      "[__set_matrix] Removed 9 genes that were not expressed in any samples. 91 genes remaining.\n",
      "[__set_matrix] Removed 0 samples that were not annotated in 'phases'. 247 samples remaining.\n",
      "[__set_matrix] Matrix truncation done. Working with 91 genes for 247 samples.\n",
      "[sandbag] Identifying marker pairs... Done!\n",
      "[sandbag] Identified 0 marker pairs (phase: count): {'G1': 0, 'S': 0, 'G2M': 0}\n",
      "[__set_matrix] Original Matrix 'x' has shape 500 x 247\n",
      "[__set_matrix] Removed 49 genes that were not expressed in any samples. 451 genes remaining.\n",
      "[__set_matrix] Removed 0 samples that were not annotated in 'phases'. 247 samples remaining.\n",
      "[__set_matrix] Matrix truncation done. Working with 451 genes for 247 samples.\n",
      "[sandbag] Identifying marker pairs... Done!\n",
      "[sandbag] Identified 7 marker pairs (phase: count): {'G1': 7, 'S': 0, 'G2M': 0}\n",
      "[__set_matrix] Original Matrix 'x' has shape 1000 x 247\n",
      "[__set_matrix] Removed 103 genes that were not expressed in any samples. 897 genes remaining.\n",
      "[__set_matrix] Removed 0 samples that were not annotated in 'phases'. 247 samples remaining.\n",
      "[__set_matrix] Matrix truncation done. Working with 897 genes for 247 samples.\n",
      "[sandbag] Identifying marker pairs... Done!\n",
      "[sandbag] Identified 46 marker pairs (phase: count): {'G1': 18, 'S': 20, 'G2M': 8}\n",
      "[__set_matrix] Original Matrix 'x' has shape 5000 x 247\n",
      "[__set_matrix] Removed 540 genes that were not expressed in any samples. 4460 genes remaining.\n",
      "[__set_matrix] Removed 0 samples that were not annotated in 'phases'. 247 samples remaining.\n",
      "[__set_matrix] Matrix truncation done. Working with 4460 genes for 247 samples.\n",
      "[sandbag] Identifying marker pairs... Done!\n",
      "[sandbag] Identified 1000 marker pairs (phase: count): {'G1': 274, 'S': 553, 'G2M': 173}\n",
      "[__set_matrix] Original Matrix 'x' has shape 10000 x 247\n",
      "[__set_matrix] Removed 1043 genes that were not expressed in any samples. 8957 genes remaining.\n",
      "[__set_matrix] Removed 0 samples that were not annotated in 'phases'. 247 samples remaining.\n",
      "[__set_matrix] Matrix truncation done. Working with 8957 genes for 247 samples.\n",
      "[sandbag] Identifying marker pairs... Done!\n",
      "[sandbag] Identified 4751 marker pairs (phase: count): {'G1': 1819, 'S': 2314, 'G2M': 618}\n",
      "[__set_matrix] Original Matrix 'x' has shape 19000 x 247\n",
      "[__set_matrix] Removed 1954 genes that were not expressed in any samples. 17046 genes remaining.\n",
      "[__set_matrix] Removed 0 samples that were not annotated in 'phases'. 247 samples remaining.\n",
      "[__set_matrix] Matrix truncation done. Working with 17046 genes for 247 samples.\n",
      "[sandbag] Identifying marker pairs... Done!\n",
      "[sandbag] Identified 15669 marker pairs (phase: count): {'G1': 6322, 'S': 7497, 'G2M': 1850}\n",
      "\n"
     ]
    }
   ],
   "source": [
    "t = []\n",
    "genes = [10,100,500,1000,5000,10000,19000]\n",
    "for g in tqdm(genes):\n",
    "    \n",
    "    sub = helper.random_subset(range(0, no_genes), g)\n",
    "    subset = oscope_gencounts_sorted.iloc[sub, :]\n",
    "    \n",
    "    start = timeit.default_timer()\n",
    "    oscope_marker_pairs = pairs.sandbag(x=subset, phases=annotation, fraction=0.65, processes=1, verbose=True)\n",
    "    time_sandbag = timeit.default_timer() - start\n",
    "    t.append(time_sandbag)\n"
   ]
  },
  {
   "cell_type": "code",
   "execution_count": 8,
   "metadata": {},
   "outputs": [
    {
     "name": "stdout",
     "output_type": "stream",
     "text": [
      "Stored 't' (list)\n"
     ]
    }
   ],
   "source": [
    "%store t"
   ]
  },
  {
   "cell_type": "markdown",
   "metadata": {},
   "source": [
    "## Results\n",
    "\n",
    "Python times are feched from store magic, R times were copied manually  "
   ]
  },
  {
   "cell_type": "code",
   "execution_count": 9,
   "metadata": {},
   "outputs": [],
   "source": [
    "%store -r"
   ]
  },
  {
   "cell_type": "code",
   "execution_count": 10,
   "metadata": {},
   "outputs": [],
   "source": [
    "t_python = t\n",
    "t_r = [0.01, 0.08, 1.49, 6.37, 180.56, 803.64, 2761.00]"
   ]
  },
  {
   "cell_type": "code",
   "execution_count": 11,
   "metadata": {},
   "outputs": [
    {
     "data": {
      "application/vnd.plotly.v1+json": {
       "data": [
        {
         "marker": {
          "color": "green",
          "size": 10,
          "symbol": "circle"
         },
         "mode": "markers+lines",
         "name": "PyPairs",
         "type": "scatter",
         "x": [
          10,
          100,
          500,
          1000,
          5000,
          10000,
          19000
         ],
         "y": [
          1.0733635106930854,
          0.04848013926158834,
          0.8249984188509112,
          3.283949077964203,
          81.04158452220688,
          342.440991817177,
          1226.3100835147889
         ]
        },
        {
         "marker": {
          "color": "blue",
          "size": 10,
          "symbol": "square"
         },
         "mode": "markers+lines",
         "name": "R Version",
         "type": "scatter",
         "x": [
          10,
          100,
          500,
          1000,
          5000,
          10000,
          19000
         ],
         "y": [
          0.01,
          0.08,
          1.49,
          6.37,
          180.56,
          803.64,
          2761
         ]
        }
       ],
       "layout": {
        "title": "Speed comparison: R implementation vs PyPairs",
        "xaxis": {
         "title": "No. of genes"
        },
        "yaxis": {
         "title": "Time in ms"
        }
       }
      },
      "text/html": [
       "<div id=\"840fe80d-1390-46d6-9925-6839de043d4b\" style=\"height: 525px; width: 100%;\" class=\"plotly-graph-div\"></div><script type=\"text/javascript\">require([\"plotly\"], function(Plotly) { window.PLOTLYENV=window.PLOTLYENV || {};window.PLOTLYENV.BASE_URL=\"https://plot.ly\";Plotly.newPlot(\"840fe80d-1390-46d6-9925-6839de043d4b\", [{\"type\": \"scatter\", \"x\": [10, 100, 500, 1000, 5000, 10000, 19000], \"y\": [1.0733635106930854, 0.04848013926158834, 0.8249984188509112, 3.283949077964203, 81.04158452220688, 342.440991817177, 1226.3100835147889], \"mode\": \"markers+lines\", \"marker\": {\"symbol\": \"circle\", \"size\": 10, \"color\": \"green\"}, \"name\": \"PyPairs\"}, {\"type\": \"scatter\", \"x\": [10, 100, 500, 1000, 5000, 10000, 19000], \"y\": [0.01, 0.08, 1.49, 6.37, 180.56, 803.64, 2761.0], \"mode\": \"markers+lines\", \"marker\": {\"symbol\": \"square\", \"size\": 10, \"color\": \"blue\"}, \"name\": \"R Version\"}], {\"title\": \"Speed comparison: R implementation vs PyPairs\", \"xaxis\": {\"title\": \"No. of genes\"}, \"yaxis\": {\"title\": \"Time in ms\"}}, {\"showLink\": true, \"linkText\": \"Export to plot.ly\"})});</script>"
      ],
      "text/vnd.plotly.v1+html": [
       "<div id=\"840fe80d-1390-46d6-9925-6839de043d4b\" style=\"height: 525px; width: 100%;\" class=\"plotly-graph-div\"></div><script type=\"text/javascript\">require([\"plotly\"], function(Plotly) { window.PLOTLYENV=window.PLOTLYENV || {};window.PLOTLYENV.BASE_URL=\"https://plot.ly\";Plotly.newPlot(\"840fe80d-1390-46d6-9925-6839de043d4b\", [{\"type\": \"scatter\", \"x\": [10, 100, 500, 1000, 5000, 10000, 19000], \"y\": [1.0733635106930854, 0.04848013926158834, 0.8249984188509112, 3.283949077964203, 81.04158452220688, 342.440991817177, 1226.3100835147889], \"mode\": \"markers+lines\", \"marker\": {\"symbol\": \"circle\", \"size\": 10, \"color\": \"green\"}, \"name\": \"PyPairs\"}, {\"type\": \"scatter\", \"x\": [10, 100, 500, 1000, 5000, 10000, 19000], \"y\": [0.01, 0.08, 1.49, 6.37, 180.56, 803.64, 2761.0], \"mode\": \"markers+lines\", \"marker\": {\"symbol\": \"square\", \"size\": 10, \"color\": \"blue\"}, \"name\": \"R Version\"}], {\"title\": \"Speed comparison: R implementation vs PyPairs\", \"xaxis\": {\"title\": \"No. of genes\"}, \"yaxis\": {\"title\": \"Time in ms\"}}, {\"showLink\": true, \"linkText\": \"Export to plot.ly\"})});</script>"
      ]
     },
     "metadata": {},
     "output_type": "display_data"
    }
   ],
   "source": [
    "# Create traces\n",
    "trace0 = go.Scatter(\n",
    "    x= [10,100,500,1000,5000,10000,19000],\n",
    "    y= t_python,\n",
    "    mode='markers+lines',\n",
    "    marker=dict(\n",
    "        symbol='circle',\n",
    "        size=10,\n",
    "        color='green',\n",
    "    ),\n",
    "    name='PyPairs'\n",
    ")\n",
    "\n",
    "trace1 = go.Scatter(\n",
    "    x= [10,100,500,1000,5000,10000,19000],\n",
    "    y= t_r,\n",
    "    mode='markers+lines',\n",
    "    marker=dict(\n",
    "        symbol='square',\n",
    "        size=10,\n",
    "        color='blue',\n",
    "    ),\n",
    "    name='R Version'\n",
    ")\n",
    "\n",
    "layout = go.Layout(\n",
    "    title='Speed comparison: R implementation vs PyPairs',\n",
    "    xaxis=dict(\n",
    "        title='No. of genes',\n",
    "    ),\n",
    "    yaxis=dict(\n",
    "        title='Time in ms',\n",
    "    )\n",
    ")\n",
    "\n",
    "data = go.Figure(data=[trace0, trace1], layout=layout)\n",
    "\n",
    "iplot(data)"
   ]
  },
  {
   "cell_type": "code",
   "execution_count": null,
   "metadata": {},
   "outputs": [],
   "source": []
  }
 ],
 "metadata": {
  "kernelspec": {
   "display_name": "Python 3",
   "language": "python",
   "name": "python3"
  },
  "language_info": {
   "codemirror_mode": {
    "name": "ipython",
    "version": 3
   },
   "file_extension": ".py",
   "mimetype": "text/x-python",
   "name": "python",
   "nbconvert_exporter": "python",
   "pygments_lexer": "ipython3",
   "version": "3.6.3"
  }
 },
 "nbformat": 4,
 "nbformat_minor": 2
}
