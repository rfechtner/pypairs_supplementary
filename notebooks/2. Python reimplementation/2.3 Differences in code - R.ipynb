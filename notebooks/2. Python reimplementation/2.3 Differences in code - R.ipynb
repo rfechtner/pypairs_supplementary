{
 "cells": [
  {
   "cell_type": "markdown",
   "metadata": {},
   "source": [
    "# Speed comparison between PyPairs and the R verison - R version\n",
    "\n",
    "Here we ran the sandbag part of the original Pairs method on the oscope dataset for a growing subset of genes. Taking note of the required execution time. Single core time is taken. For the python part and result please see: [2.3 Differences in code - Python](./2.3%20Differences%20in%20code%20-%20Python.ipynb)"
   ]
  },
  {
   "cell_type": "markdown",
   "metadata": {},
   "source": [
    "## Neccessary Imports"
   ]
  },
  {
   "cell_type": "code",
   "execution_count": 1,
   "metadata": {},
   "outputs": [
    {
     "name": "stderr",
     "output_type": "stream",
     "text": [
      "Loading required package: BiocParallel\n",
      "Loading required package: SingleCellExperiment\n",
      "Loading required package: SummarizedExperiment\n",
      "Loading required package: GenomicRanges\n",
      "Loading required package: stats4\n",
      "Loading required package: BiocGenerics\n",
      "Loading required package: parallel\n",
      "\n",
      "Attaching package: 'BiocGenerics'\n",
      "\n",
      "The following objects are masked from 'package:parallel':\n",
      "\n",
      "    clusterApply, clusterApplyLB, clusterCall, clusterEvalQ,\n",
      "    clusterExport, clusterMap, parApply, parCapply, parLapply,\n",
      "    parLapplyLB, parRapply, parSapply, parSapplyLB\n",
      "\n",
      "The following objects are masked from 'package:stats':\n",
      "\n",
      "    IQR, mad, sd, var, xtabs\n",
      "\n",
      "The following objects are masked from 'package:base':\n",
      "\n",
      "    anyDuplicated, append, as.data.frame, cbind, colMeans, colnames,\n",
      "    colSums, do.call, duplicated, eval, evalq, Filter, Find, get, grep,\n",
      "    grepl, intersect, is.unsorted, lapply, lengths, Map, mapply, match,\n",
      "    mget, order, paste, pmax, pmax.int, pmin, pmin.int, Position, rank,\n",
      "    rbind, Reduce, rowMeans, rownames, rowSums, sapply, setdiff, sort,\n",
      "    table, tapply, union, unique, unsplit, which, which.max, which.min\n",
      "\n",
      "Loading required package: S4Vectors\n",
      "\n",
      "Attaching package: 'S4Vectors'\n",
      "\n",
      "The following object is masked from 'package:base':\n",
      "\n",
      "    expand.grid\n",
      "\n",
      "Loading required package: IRanges\n",
      "Loading required package: GenomeInfoDb\n",
      "Loading required package: Biobase\n",
      "Welcome to Bioconductor\n",
      "\n",
      "    Vignettes contain introductory material; view with\n",
      "    'browseVignettes()'. To cite Bioconductor, see\n",
      "    'citation(\"Biobase\")', and for packages 'citation(\"pkgname\")'.\n",
      "\n",
      "Loading required package: DelayedArray\n",
      "Loading required package: matrixStats\n",
      "\n",
      "Attaching package: 'matrixStats'\n",
      "\n",
      "The following objects are masked from 'package:Biobase':\n",
      "\n",
      "    anyMissing, rowMedians\n",
      "\n",
      "\n",
      "Attaching package: 'DelayedArray'\n",
      "\n",
      "The following objects are masked from 'package:matrixStats':\n",
      "\n",
      "    colMaxs, colMins, colRanges, rowMaxs, rowMins, rowRanges\n",
      "\n",
      "The following object is masked from 'package:base':\n",
      "\n",
      "    apply\n",
      "\n",
      "Warning message:\n",
      "\"package 'microbenchmark' was built under R version 3.4.3\""
     ]
    }
   ],
   "source": [
    "# Loading required packages\n",
    "library(scran)\n",
    "library(microbenchmark)"
   ]
  },
  {
   "cell_type": "markdown",
   "metadata": {},
   "source": [
    "## Loading the Oscope dataset"
   ]
  },
  {
   "cell_type": "code",
   "execution_count": 2,
   "metadata": {},
   "outputs": [],
   "source": [
    "# Loading Oscope dataset\n",
    "oscope.gencounts <- read.csv(\"./../../data/GSE64016_H1andFUCCI_normalized_EC_human.csv\")\n",
    "\n",
    "# Getting gene names\n",
    "oscope.gennames <- oscope.gencounts[, grepl( \"X\" , names( oscope.gencounts ) )]\n",
    "\n",
    "# Defining sorted dataset where cell cycle phases are annotated for sandbag\n",
    "oscope.gencounts.sorted <- oscope.gencounts[, grepl( \"S_|G1_|G2_\" , names( oscope.gencounts ) )]\n",
    "oscope.gencounts.sorted.matrix <- as.matrix(oscope.gencounts.sorted)\n",
    "rownames(oscope.gencounts.sorted.matrix) <- oscope.gennames\n",
    "\n",
    "# Getting annotation of cell cycle for samples\n",
    "is.G1 <- grepl(\"G1_\", names(oscope.gencounts.sorted))\n",
    "is.S <- grepl(\"S_\", names(oscope.gencounts.sorted))\n",
    "is.G2M <- grepl(\"G2_\", names(oscope.gencounts.sorted))"
   ]
  },
  {
   "cell_type": "code",
   "execution_count": 3,
   "metadata": {},
   "outputs": [
    {
     "data": {
      "text/html": [
       "19084"
      ],
      "text/latex": [
       "19084"
      ],
      "text/markdown": [
       "19084"
      ],
      "text/plain": [
       "[1] 19084"
      ]
     },
     "metadata": {},
     "output_type": "display_data"
    }
   ],
   "source": [
    "dim(oscope.gencounts.sorted.matrix)[1]"
   ]
  },
  {
   "cell_type": "markdown",
   "metadata": {},
   "source": [
    "## Running sandbag with increasing number of genes"
   ]
  },
  {
   "cell_type": "code",
   "execution_count": 9,
   "metadata": {},
   "outputs": [
    {
     "name": "stdout",
     "output_type": "stream",
     "text": [
      "[1] 0.01\n",
      "[1] 0.08\n",
      "[1] 1.49\n",
      "[1] 6.37\n",
      "[1] 180.56\n",
      "[1] 803.64\n",
      "[1] 2761\n"
     ]
    }
   ],
   "source": [
    "for (g in c(10,100,500,1000,5000,10000,19000)){\n",
    "    sub <- sample(1:19084, g, replace=F)\n",
    "    m <- oscope.gencounts.sorted.matrix[sub, ]\n",
    "    ptm <- proc.time()\n",
    "    oscope.predictor <- sandbag(m, list(G1=is.G1, S=is.S,G2M=is.G2M), fraction=0.65)\n",
    "    time_sandbag <- proc.time() - ptm\n",
    "    print(time_sandbag[[\"elapsed\"]])\n",
    "}"
   ]
  }
 ],
 "metadata": {
  "kernelspec": {
   "display_name": "R",
   "language": "R",
   "name": "ir"
  },
  "language_info": {
   "codemirror_mode": "r",
   "file_extension": ".r",
   "mimetype": "text/x-r-source",
   "name": "R",
   "pygments_lexer": "r",
   "version": "3.4.2"
  }
 },
 "nbformat": 4,
 "nbformat_minor": 2
}
